{
  "nbformat": 4,
  "nbformat_minor": 0,
  "metadata": {
    "colab": {
      "provenance": []
    },
    "kernelspec": {
      "name": "python3",
      "display_name": "Python 3"
    },
    "language_info": {
      "name": "python"
    }
  },
  "cells": [
    {
      "cell_type": "markdown",
      "source": [
        "#Python Basics Questions\n",
        "1. What is Python, and why is it popular?\n",
        " - Python is a programming language widely used for creating websites, creating Machine Learning modeles and in AI fields. Python is created by Guido van Rossum in 1991.\n",
        " - Reason for popularity of python is\n",
        " -Versatility - it can be used for various activities such as web development,data analytics, Artificial Intelligence, Machine learning and etc.\n",
        " - Ease of understanding- Python's syntax is very easy to understand and write new code.\n",
        " -Vast Library- Python is having more than 137000 libraries which helps developers to do tasks more easily.\n",
        " -Large community and support- Python has large and active communities of developers who contibutes to its grwoth and provides support.\n",
        "\n",
        "2. What is an interpreter in Python?\n",
        " - In python, interpreter is a program who reads and executes python code.\n",
        " -It takes your scripts and translate them into machine code that computer can understand and execute.\n",
        " - It's key features are mentioned below\n",
        " - Interactive Mode- You can write your scripts interactively, which make its easier to code and debug.\n",
        " -Flexibility- Python's interpreter allows for dynamic typing without needing a type declaration.\n",
        " -Portability- Python interpreters are avialable in many systems(windows,Linux,Mac).\n",
        "\n",
        "3. What are pre-defined keywords in Python?\n",
        " - Pythons keywords are preserved keywords which have a special meaning and specific tasks in the language.\n",
        " - These keywords can not be used as variable names or function names.\n",
        " - List of few mostly used keywords are - if, else, True, False, None, For, While, is, in , break, continue....\n",
        "\n",
        "4. Can keywords be used as variable names?\n",
        " - No, keywords can not be used as variable names. Keywords in python are preserved keywords which have a special meaning and specific tasks.\n",
        " - If you want to use ay keywords as variable you can combine it with an underscore(_).\n",
        "\n",
        "5. What is mutability in Python?\n",
        "  - In Python mutability referes to ability of an object to be modified after created.\n",
        "  - Some examples are - set, dict, list\n",
        "\n",
        "6. Why are lists mutable, but tuples are immutable?\n",
        " - Lists are designed to be mutable because their elements can be chaneged or removed after they cretated for which they take more memory and less efficient. Where data is not fixed and can be changed after creation in that place we use lists.\n",
        " - In the other hand Tuples are designed to be immutable because their elements can not be changed after they created which makes them more efficient that lists. Tupels prevent any accidental modification and make the code more reliable. These are used where data structure is fixed.\n",
        "\n",
        "7. What is the difference between “==” and “is” operators in Python?\n",
        " - '==' is Equality operator where 'is' is Identity Operator.\n",
        " - '==' compares the value of two objects and check if they re same or not.\n",
        " - 'is' checks if the two variables refer to same object or not.\n",
        " - please refer to below example"
      ],
      "metadata": {
        "id": "IiUOVzm4pGfn"
      }
    },
    {
      "cell_type": "code",
      "execution_count": null,
      "metadata": {
        "colab": {
          "base_uri": "https://localhost:8080/"
        },
        "id": "xQtUobigpC_x",
        "outputId": "504c4cff-c794-40d1-8a42-5fe231106b68"
      },
      "outputs": [
        {
          "output_type": "execute_result",
          "data": {
            "text/plain": [
              "True"
            ]
          },
          "metadata": {},
          "execution_count": 1
        }
      ],
      "source": [
        "a=[1,2,3]\n",
        "b=[1,2,3]\n",
        "a==b"
      ]
    },
    {
      "cell_type": "code",
      "source": [
        "a is b"
      ],
      "metadata": {
        "colab": {
          "base_uri": "https://localhost:8080/"
        },
        "id": "0Ye40otJXLeK",
        "outputId": "f3542ded-37d1-4775-e006-b91193a5d7bb"
      },
      "execution_count": null,
      "outputs": [
        {
          "output_type": "execute_result",
          "data": {
            "text/plain": [
              "False"
            ]
          },
          "metadata": {},
          "execution_count": 2
        }
      ]
    },
    {
      "cell_type": "markdown",
      "source": [
        "8. What are logical operators in Python?\n",
        " - In Python, logical oerators used to combine conditional statement and return a Boolean result (True or False)\n",
        " - There are three types of logical operators, such as-\n",
        " - and :- returns True if both conditions are True, otherwise False\n",
        " - or :- returns False if both conditions are False, otherwise True\n",
        " - not :- returns True if it is False, returns False if it is True\n"
      ],
      "metadata": {
        "id": "HITWT_8JXWMR"
      }
    },
    {
      "cell_type": "code",
      "source": [
        "True and True"
      ],
      "metadata": {
        "colab": {
          "base_uri": "https://localhost:8080/"
        },
        "id": "IndEDj_fXQu9",
        "outputId": "4bdae623-42e1-4eab-8143-fdf6e7fa39f2"
      },
      "execution_count": null,
      "outputs": [
        {
          "output_type": "execute_result",
          "data": {
            "text/plain": [
              "True"
            ]
          },
          "metadata": {},
          "execution_count": 5
        }
      ]
    },
    {
      "cell_type": "code",
      "source": [
        "False or False"
      ],
      "metadata": {
        "colab": {
          "base_uri": "https://localhost:8080/"
        },
        "id": "DEmVx5AcbB68",
        "outputId": "744d170d-bf3a-4d21-e892-4110800e83f0"
      },
      "execution_count": null,
      "outputs": [
        {
          "output_type": "execute_result",
          "data": {
            "text/plain": [
              "False"
            ]
          },
          "metadata": {},
          "execution_count": 6
        }
      ]
    },
    {
      "cell_type": "code",
      "source": [
        "not False"
      ],
      "metadata": {
        "colab": {
          "base_uri": "https://localhost:8080/"
        },
        "id": "jCbOMGjsbFH7",
        "outputId": "4fe91861-2153-483d-c86b-277308e59f18"
      },
      "execution_count": null,
      "outputs": [
        {
          "output_type": "execute_result",
          "data": {
            "text/plain": [
              "True"
            ]
          },
          "metadata": {},
          "execution_count": 7
        }
      ]
    },
    {
      "cell_type": "markdown",
      "source": [
        "9. What is type casting in Python?\n",
        " - Type casting is also know as type conversion. It is the process of converting a value from one data type to another.\n",
        " - There are two types of type casting is there implicit type casting and explicit type casting.\n",
        " - Implicit Type Casting - Python automatically convetrts one data type to another without programmers intervention. (it converts int to float during operation between int an float)\n",
        " - Explicit Type Casting - When the programmer manulally converts the data type to another by giving function like int(),float(),str()\n",
        "\n",
        "10. What is the difference between implicit and explicit type casting?\n",
        " - Implicit Type Casting - Python automatically convetrts one data type to another without programmers intervention. It occurs when operations involved mix data types during that time Python can safely convert one type to another without any data loss.\n",
        " - Explicit Type Casting - When the programmer manulally converts the data type to another by giving function like int(),float(),str(). This leads to often data loss during type conversion.\n",
        "\n",
        "11. What is the purpose of conditional statements in Python?\n",
        " - In python, conditional statements are used to control the flow of a program. They allow your program to make decisions and execute different code blocks based on specific conditions. Ex- if, elif, else.\n",
        " - It helps in decision making, controlling flow of the program and handling multiple scenarios.\n",
        "\n",
        "12. How does the elif statement work?\n",
        " - In Python, elif stands for 'else if'. It is used to give multiple condition in a sequence.\n",
        " - The first 'if' condition is checked.\n",
        " - If it's true then 'if' statement will be executed and rest statements will be ignored.\n",
        " - If it's false then the first 'elif' will be checked and if it's true then the corresponding 'elif' statement will be executed and rest will be ignored.\n",
        " - If the first 'elif' is false then it will check for second 'elif' and so on.\n",
        " - if none of the 'if' or 'elif' conditions are ture, it will execute the 'else' statement.\n",
        "\n",
        "13. What is the difference between for and while loops?\n",
        " - Both for and while loop control the flow of the code and used to repeatedly execute a block of code.\n",
        " - For Loop- It is used to iterate over a sequence (list, tuples, str). It has fixed number of iteration.\n",
        " - While Loop- It is used to repeat a block of code as long as the specified condition is true. It has no fixed no of iteration and it depends upon the user input condition.\n",
        "\n",
        "14.  Describe a scenario where a while loop is more suitable than a for loop.\n",
        " - while loop is more suitable than for loop when the number of iteration is not known before.\n",
        " - Suppose a program where user need to enter a positive integer. Here when user will enter a valid input we are not aware. So the program will keep promting until user enter a correct number. Here the number of iterarion is not knwn so we need to use While loop."
      ],
      "metadata": {
        "id": "AgAfn1Zcaydu"
      }
    },
    {
      "cell_type": "code",
      "source": [
        "while True:\n",
        " number=int(input('Enter a positive integer: '))\n",
        " if number>0:\n",
        "  break\n",
        " else:\n",
        "  print('Invalid input. Please enter a positive integer.')\n",
        "print('You entered:', number)"
      ],
      "metadata": {
        "id": "ML2Ey_o7xn2u",
        "colab": {
          "base_uri": "https://localhost:8080/"
        },
        "outputId": "4d2b9a68-9101-40f4-c322-78c919840573"
      },
      "execution_count": null,
      "outputs": [
        {
          "output_type": "stream",
          "name": "stdout",
          "text": [
            "Enter a positive integer: 0\n",
            "Invalid input. Please enter a positive integer.\n",
            "Enter a positive integer: -1\n",
            "Invalid input. Please enter a positive integer.\n",
            "Enter a positive integer: 2\n",
            "You entered: 2\n"
          ]
        }
      ]
    },
    {
      "cell_type": "markdown",
      "source": [
        "#Practical Questions\n"
      ],
      "metadata": {
        "id": "Ma2AY1tSBS0z"
      }
    },
    {
      "cell_type": "code",
      "source": [
        "# 1)Write a Python program to print \"Hello, World!\"\n",
        "print('Hello, World!')"
      ],
      "metadata": {
        "colab": {
          "base_uri": "https://localhost:8080/"
        },
        "id": "_KRt1wMTBqhr",
        "outputId": "c32615d8-ef74-44fa-9901-9ce3e149f83e"
      },
      "execution_count": null,
      "outputs": [
        {
          "output_type": "stream",
          "name": "stdout",
          "text": [
            "Hello, World!\n"
          ]
        }
      ]
    },
    {
      "cell_type": "code",
      "source": [
        "# 2)Write a Python program that displays your name and age.\n",
        "name=input('Enter your name: ')\n",
        "age=int(input('Enter your age: '))\n",
        "print('Your name is:',name)\n",
        "print('Your age is:',age)"
      ],
      "metadata": {
        "colab": {
          "base_uri": "https://localhost:8080/"
        },
        "id": "bLzigoYrBv84",
        "outputId": "22ad9514-97b9-46ee-d9f7-5c06f7fa6797"
      },
      "execution_count": null,
      "outputs": [
        {
          "output_type": "stream",
          "name": "stdout",
          "text": [
            "Enter your name: Anup\n",
            "Enter your age: 26\n",
            "Your name is: Anup\n",
            "Your age is: 26\n"
          ]
        }
      ]
    },
    {
      "cell_type": "code",
      "source": [
        " # 3)Write code to print all the pre-defined keywords in Python using the keyword library.\n",
        " import keyword\n",
        " print(keyword.kwlist)"
      ],
      "metadata": {
        "colab": {
          "base_uri": "https://localhost:8080/"
        },
        "id": "MZEy4T12CqbQ",
        "outputId": "c525c24e-adb5-43d7-add4-d3c67ee885d5"
      },
      "execution_count": null,
      "outputs": [
        {
          "output_type": "stream",
          "name": "stdout",
          "text": [
            "['False', 'None', 'True', 'and', 'as', 'assert', 'async', 'await', 'break', 'class', 'continue', 'def', 'del', 'elif', 'else', 'except', 'finally', 'for', 'from', 'global', 'if', 'import', 'in', 'is', 'lambda', 'nonlocal', 'not', 'or', 'pass', 'raise', 'return', 'try', 'while', 'with', 'yield']\n"
          ]
        }
      ]
    },
    {
      "cell_type": "code",
      "source": [
        "# 4)Write a program that checks if a given word is a Python keyword.\n",
        "import keyword\n",
        "word = input('Enter a word: ')\n",
        "if word in keyword.kwlist:\n",
        "  print (word , 'is a python keyword')\n",
        "else:\n",
        "  print(word , 'is not a python keywword')"
      ],
      "metadata": {
        "colab": {
          "base_uri": "https://localhost:8080/"
        },
        "id": "lUd5l7fuC_R1",
        "outputId": "11c6067a-8819-4e5a-f463-7c9d9e8fabb5"
      },
      "execution_count": null,
      "outputs": [
        {
          "output_type": "stream",
          "name": "stdout",
          "text": [
            "Enter a word: as\n",
            "as is a python keyword\n"
          ]
        }
      ]
    },
    {
      "cell_type": "code",
      "source": [
        "# 5)Create a list and tuple in Python, and demonstrate how attempting to change an element works differently for each.\n",
        "list_ex= [1,2,4.6,'Anup']\n",
        "tup_ex=(4,5,7.8,'Ray')\n",
        "list_ex[2]=1.2\n",
        "print(list_ex)\n",
        "tup_ex[1]=6\n",
        "print(tup_ex)"
      ],
      "metadata": {
        "colab": {
          "base_uri": "https://localhost:8080/",
          "height": 211
        },
        "id": "_dahnrKNENMA",
        "outputId": "407ae448-022c-42fb-c947-50cdf23c04d9"
      },
      "execution_count": null,
      "outputs": [
        {
          "output_type": "stream",
          "name": "stdout",
          "text": [
            "[1, 2, 1.2, 'Anup']\n"
          ]
        },
        {
          "output_type": "error",
          "ename": "TypeError",
          "evalue": "'tuple' object does not support item assignment",
          "traceback": [
            "\u001b[0;31m---------------------------------------------------------------------------\u001b[0m",
            "\u001b[0;31mTypeError\u001b[0m                                 Traceback (most recent call last)",
            "\u001b[0;32m<ipython-input-94-3a7bf4bf189c>\u001b[0m in \u001b[0;36m<cell line: 6>\u001b[0;34m()\u001b[0m\n\u001b[1;32m      4\u001b[0m \u001b[0mlist_ex\u001b[0m\u001b[0;34m[\u001b[0m\u001b[0;36m2\u001b[0m\u001b[0;34m]\u001b[0m\u001b[0;34m=\u001b[0m\u001b[0;36m1.2\u001b[0m\u001b[0;34m\u001b[0m\u001b[0;34m\u001b[0m\u001b[0m\n\u001b[1;32m      5\u001b[0m \u001b[0mprint\u001b[0m\u001b[0;34m(\u001b[0m\u001b[0mlist_ex\u001b[0m\u001b[0;34m)\u001b[0m\u001b[0;34m\u001b[0m\u001b[0;34m\u001b[0m\u001b[0m\n\u001b[0;32m----> 6\u001b[0;31m \u001b[0mtup_ex\u001b[0m\u001b[0;34m[\u001b[0m\u001b[0;36m1\u001b[0m\u001b[0;34m]\u001b[0m\u001b[0;34m=\u001b[0m\u001b[0;36m6\u001b[0m\u001b[0;34m\u001b[0m\u001b[0;34m\u001b[0m\u001b[0m\n\u001b[0m\u001b[1;32m      7\u001b[0m \u001b[0mprint\u001b[0m\u001b[0;34m(\u001b[0m\u001b[0mtup_ex\u001b[0m\u001b[0;34m)\u001b[0m\u001b[0;34m\u001b[0m\u001b[0;34m\u001b[0m\u001b[0m\n",
            "\u001b[0;31mTypeError\u001b[0m: 'tuple' object does not support item assignment"
          ]
        }
      ]
    },
    {
      "cell_type": "code",
      "source": [
        "# 6)Write a function to demonstrate the behavior of mutable and immutable arguments.\n",
        "list_ex= [1,2,4.6,'Anup']\n",
        "tup_ex=(1,4,8.8,'Ray')\n",
        "\n",
        "def new_list(list_ex):\n",
        "  list_ex[2]=1.2\n",
        "def new_tup(tup_ex):\n",
        "  tup_ex= 0\n",
        "new_list(list_ex)\n",
        "new_tup(tup_ex)\n",
        "print(list_ex)\n",
        "print(tup_ex)"
      ],
      "metadata": {
        "colab": {
          "base_uri": "https://localhost:8080/"
        },
        "id": "KVw-MIRuFZH1",
        "outputId": "32bdb22d-5820-4154-a4cd-fa6a9f2b47b8"
      },
      "execution_count": null,
      "outputs": [
        {
          "output_type": "stream",
          "name": "stdout",
          "text": [
            "[1, 2, 1.2, 'Anup']\n",
            "(1, 4, 8.8, 'Ray')\n"
          ]
        }
      ]
    },
    {
      "cell_type": "code",
      "source": [
        "# 7)Write a function to demonstrate the behavior of mutable and immutable arguments.\n",
        "list_ex= [1,2,4.6,'Anup']\n",
        "tup_ex=(4,5,7.8,'Ray')\n",
        "\n",
        "def new_list(list_ex):\n",
        "  list_ex[2]=1.2\n",
        "def new_tup(tup_ex):\n",
        "  tup_ex= 'Anup'\n",
        "new_list(list_ex)\n",
        "new_tup(tup_ex)\n",
        "print(list_ex)\n",
        "print(tup_ex)"
      ],
      "metadata": {
        "colab": {
          "base_uri": "https://localhost:8080/"
        },
        "id": "WyHMt-SDPK-E",
        "outputId": "c2d3a180-2a51-4441-9d46-6e4b17b7b75b"
      },
      "execution_count": null,
      "outputs": [
        {
          "output_type": "stream",
          "name": "stdout",
          "text": [
            "[1, 2, 1.2, 'Anup']\n",
            "(4, 5, 7.8, 'Ray')\n"
          ]
        }
      ]
    },
    {
      "cell_type": "code",
      "source": [
        "# 8)Write a program to demonstrate the use of logical operators.\n",
        "a=4\n",
        "b=6\n",
        "c=8\n",
        "\n",
        "x=(a<b and b<c)\n",
        "x1=(a<b and b>c)\n",
        "y=(a>b or b>c)\n",
        "y1=(a>b or b<c)\n",
        "z=(not a>b)\n",
        "z1=(not a<b)\n",
        "print(x)\n",
        "print(x1)\n",
        "print(y)\n",
        "print(y1)\n",
        "print(z)\n",
        "print(z1)"
      ],
      "metadata": {
        "colab": {
          "base_uri": "https://localhost:8080/"
        },
        "id": "yI7bTCZuIE9R",
        "outputId": "765fd3af-7f94-47dc-c830-2b8df13d5830"
      },
      "execution_count": null,
      "outputs": [
        {
          "output_type": "stream",
          "name": "stdout",
          "text": [
            "True\n",
            "False\n",
            "False\n",
            "True\n",
            "True\n",
            "False\n"
          ]
        }
      ]
    },
    {
      "cell_type": "code",
      "source": [
        "# 9)Write a Python program to convert user input from string to integer, float, and boolean types.\n",
        "\n",
        "a=input('Enter a string: ')\n",
        "int_a=int(a)\n",
        "float_a=float(a)\n",
        "bool_a=bool(a)\n",
        "print(int_a)\n",
        "print(float_a)\n",
        "print(bool_a)"
      ],
      "metadata": {
        "colab": {
          "base_uri": "https://localhost:8080/",
          "height": 228
        },
        "id": "h6uq2WUwOS44",
        "outputId": "2e8fef5b-85bf-4f43-a404-c2663f94fd77"
      },
      "execution_count": null,
      "outputs": [
        {
          "name": "stdout",
          "output_type": "stream",
          "text": [
            "Enter a string: r\n"
          ]
        },
        {
          "output_type": "error",
          "ename": "ValueError",
          "evalue": "invalid literal for int() with base 10: 'r'",
          "traceback": [
            "\u001b[0;31m---------------------------------------------------------------------------\u001b[0m",
            "\u001b[0;31mValueError\u001b[0m                                Traceback (most recent call last)",
            "\u001b[0;32m<ipython-input-45-351f43b4a8c8>\u001b[0m in \u001b[0;36m<cell line: 4>\u001b[0;34m()\u001b[0m\n\u001b[1;32m      2\u001b[0m \u001b[0;34m\u001b[0m\u001b[0m\n\u001b[1;32m      3\u001b[0m \u001b[0ma\u001b[0m\u001b[0;34m=\u001b[0m\u001b[0minput\u001b[0m\u001b[0;34m(\u001b[0m\u001b[0;34m'Enter a string: '\u001b[0m\u001b[0;34m)\u001b[0m\u001b[0;34m\u001b[0m\u001b[0;34m\u001b[0m\u001b[0m\n\u001b[0;32m----> 4\u001b[0;31m \u001b[0mint_a\u001b[0m\u001b[0;34m=\u001b[0m\u001b[0mint\u001b[0m\u001b[0;34m(\u001b[0m\u001b[0ma\u001b[0m\u001b[0;34m)\u001b[0m\u001b[0;34m\u001b[0m\u001b[0;34m\u001b[0m\u001b[0m\n\u001b[0m\u001b[1;32m      5\u001b[0m \u001b[0mfloat_a\u001b[0m\u001b[0;34m=\u001b[0m\u001b[0mfloat\u001b[0m\u001b[0;34m(\u001b[0m\u001b[0ma\u001b[0m\u001b[0;34m)\u001b[0m\u001b[0;34m\u001b[0m\u001b[0;34m\u001b[0m\u001b[0m\n\u001b[1;32m      6\u001b[0m \u001b[0mbool_a\u001b[0m\u001b[0;34m=\u001b[0m\u001b[0mbool\u001b[0m\u001b[0;34m(\u001b[0m\u001b[0ma\u001b[0m\u001b[0;34m)\u001b[0m\u001b[0;34m\u001b[0m\u001b[0;34m\u001b[0m\u001b[0m\n",
            "\u001b[0;31mValueError\u001b[0m: invalid literal for int() with base 10: 'r'"
          ]
        }
      ]
    },
    {
      "cell_type": "code",
      "source": [
        "# 10)Write code to demonstrate type casting with list elements.\n",
        "new_list=[1,2,3,4.6,'Anup']\n",
        "\n",
        "int_list=int(new_list)\n",
        "float_list=float(new_list)\n",
        "bool_list=bool(new_list)\n",
        "print(int_list)\n",
        "print(float_list)\n",
        "print(bool_list)"
      ],
      "metadata": {
        "colab": {
          "base_uri": "https://localhost:8080/",
          "height": 211
        },
        "id": "Ec483nTdQ2IO",
        "outputId": "cf86d23e-969b-4f06-83c3-35bab04f9405"
      },
      "execution_count": null,
      "outputs": [
        {
          "output_type": "error",
          "ename": "TypeError",
          "evalue": "int() argument must be a string, a bytes-like object or a real number, not 'list'",
          "traceback": [
            "\u001b[0;31m---------------------------------------------------------------------------\u001b[0m",
            "\u001b[0;31mTypeError\u001b[0m                                 Traceback (most recent call last)",
            "\u001b[0;32m<ipython-input-47-abe446c9e28d>\u001b[0m in \u001b[0;36m<cell line: 4>\u001b[0;34m()\u001b[0m\n\u001b[1;32m      2\u001b[0m \u001b[0mnew_list\u001b[0m\u001b[0;34m=\u001b[0m\u001b[0;34m[\u001b[0m\u001b[0;36m1\u001b[0m\u001b[0;34m,\u001b[0m\u001b[0;36m2\u001b[0m\u001b[0;34m,\u001b[0m\u001b[0;36m3\u001b[0m\u001b[0;34m,\u001b[0m\u001b[0;36m4.6\u001b[0m\u001b[0;34m,\u001b[0m\u001b[0;34m'Anup'\u001b[0m\u001b[0;34m]\u001b[0m\u001b[0;34m\u001b[0m\u001b[0;34m\u001b[0m\u001b[0m\n\u001b[1;32m      3\u001b[0m \u001b[0;34m\u001b[0m\u001b[0m\n\u001b[0;32m----> 4\u001b[0;31m \u001b[0mint_list\u001b[0m\u001b[0;34m=\u001b[0m\u001b[0mint\u001b[0m\u001b[0;34m(\u001b[0m\u001b[0mnew_list\u001b[0m\u001b[0;34m)\u001b[0m\u001b[0;34m\u001b[0m\u001b[0;34m\u001b[0m\u001b[0m\n\u001b[0m\u001b[1;32m      5\u001b[0m \u001b[0mfloat_list\u001b[0m\u001b[0;34m=\u001b[0m\u001b[0mfloat\u001b[0m\u001b[0;34m(\u001b[0m\u001b[0mnew_list\u001b[0m\u001b[0;34m)\u001b[0m\u001b[0;34m\u001b[0m\u001b[0;34m\u001b[0m\u001b[0m\n\u001b[1;32m      6\u001b[0m \u001b[0mbool_list\u001b[0m\u001b[0;34m=\u001b[0m\u001b[0mbool\u001b[0m\u001b[0;34m(\u001b[0m\u001b[0mnew_list\u001b[0m\u001b[0;34m)\u001b[0m\u001b[0;34m\u001b[0m\u001b[0;34m\u001b[0m\u001b[0m\n",
            "\u001b[0;31mTypeError\u001b[0m: int() argument must be a string, a bytes-like object or a real number, not 'list'"
          ]
        }
      ]
    },
    {
      "cell_type": "code",
      "source": [
        "# 11) Write a program that checks if a number is positive, negative, or zero.\n",
        "num=int(input('Enter a number: '))\n",
        "if num>0:\n",
        "  print('Number is positive')\n",
        "elif num<0:\n",
        "  print('Number is negative')\n",
        "else:\n",
        "  print('Number is zero')"
      ],
      "metadata": {
        "colab": {
          "base_uri": "https://localhost:8080/"
        },
        "id": "ds0v8OVoScU8",
        "outputId": "8458dfe1-ee92-4234-8a66-327c62191f26"
      },
      "execution_count": null,
      "outputs": [
        {
          "output_type": "stream",
          "name": "stdout",
          "text": [
            "Enter a number: -2\n",
            "Number is negative\n"
          ]
        }
      ]
    },
    {
      "cell_type": "code",
      "source": [
        "# 12) Write a for loop to print numbers from 1 to 10.\n",
        "for i in range(1,11):\n",
        "  print(i)"
      ],
      "metadata": {
        "colab": {
          "base_uri": "https://localhost:8080/"
        },
        "id": "1LSLgmprTZM6",
        "outputId": "83089e85-1fd7-40dd-9d79-4f392a550ec5"
      },
      "execution_count": null,
      "outputs": [
        {
          "output_type": "stream",
          "name": "stdout",
          "text": [
            "1\n",
            "2\n",
            "3\n",
            "4\n",
            "5\n",
            "6\n",
            "7\n",
            "8\n",
            "9\n",
            "10\n"
          ]
        }
      ]
    },
    {
      "cell_type": "code",
      "source": [
        "# 13) Write a Python program to find the sum of all even numbers between 1 and 50.\n",
        "sum_even=0\n",
        "for i in range(51):#range(2,51,2)\n",
        "  if i%2==0:\n",
        "    sum_even=sum_even+i\n",
        "print('sum of all even numbers between 1 and 50 is: ',sum_even)"
      ],
      "metadata": {
        "colab": {
          "base_uri": "https://localhost:8080/"
        },
        "id": "Jw2EGQ9BTnMJ",
        "outputId": "e5fd28ab-5a0a-44c3-c86b-361f37cc66a8"
      },
      "execution_count": null,
      "outputs": [
        {
          "output_type": "stream",
          "name": "stdout",
          "text": [
            "sum of all even numbers between 1 and 50 is:  650\n"
          ]
        }
      ]
    },
    {
      "cell_type": "code",
      "source": [
        "# 14) Write a program to reverse a string using a while loop.\n",
        "to_be_reversed=input('Enter a string: ')\n",
        "reversed_string=''\n",
        "length=len(to_be_reversed)\n",
        "while length>0:\n",
        "  reversed_string=reversed_string+to_be_reversed[length-1]\n",
        "  length=length-1\n",
        "print(reversed_string)"
      ],
      "metadata": {
        "colab": {
          "base_uri": "https://localhost:8080/"
        },
        "id": "ikCvKmUpT-vq",
        "outputId": "63799043-d589-4c30-d7f5-039863861886"
      },
      "execution_count": null,
      "outputs": [
        {
          "output_type": "stream",
          "name": "stdout",
          "text": [
            "Enter a string: amup\n",
            "puma\n"
          ]
        }
      ]
    },
    {
      "cell_type": "code",
      "source": [
        "# 15)Write a Python program to calculate the factorial of a number provided by the user using a while loop.\n",
        "num = int(input('Enter a number: '))\n",
        "factorial=1\n",
        "i = 1\n",
        "if num>=0:\n",
        "  while i <= num:\n",
        "    factorial = factorial * i\n",
        "    i = i + 1\n",
        "  print('Factorial of', num, 'is', factorial)\n",
        "else:\n",
        "  print('There is no factorial for negative numbers')"
      ],
      "metadata": {
        "colab": {
          "base_uri": "https://localhost:8080/"
        },
        "id": "TnRky9YNWnFo",
        "outputId": "972299ef-ae93-422c-a079-0798421b11f1"
      },
      "execution_count": null,
      "outputs": [
        {
          "output_type": "stream",
          "name": "stdout",
          "text": [
            "Enter a number: -8\n",
            "There is no factorial for negative numbers\n"
          ]
        }
      ]
    }
  ]
}